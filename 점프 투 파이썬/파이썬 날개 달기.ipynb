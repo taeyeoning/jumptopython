{
 "cells": [
  {
   "cell_type": "markdown",
   "metadata": {},
   "source": [
    "# 클래스"
   ]
  },
  {
   "cell_type": "markdown",
   "metadata": {},
   "source": [
    "class : 똑같은 무언가를 계속 만들어 낼 수 있는 설계 도면\n",
    "\n",
    "object : 클래스로 만든 피조물\n",
    "\n",
    "- 동일한 클래스로 만든 객체들은 서로 영향을 주지 않음"
   ]
  },
  {
   "cell_type": "code",
   "execution_count": null,
   "metadata": {},
   "outputs": [],
   "source": [
    "class Cookie :\n",
    "    pass\n",
    "\n",
    "a = Cookie() # 객체를 클래스로 만들고, 1개의 클래스는 무수히 많은 객체를 만들 수 있음\n",
    "b = Cookie() # Cookie() 의 결과값은 리턴받은 a, b 가 객체이다."
   ]
  },
  {
   "cell_type": "code",
   "execution_count": 1,
   "metadata": {},
   "outputs": [
    {
     "name": "stdout",
     "output_type": "stream",
     "text": [
      "3\n",
      "7\n",
      "3\n",
      "10\n"
     ]
    }
   ],
   "source": [
    "class Calculator :\n",
    "    def __init__(self):\n",
    "        self.result = 0\n",
    "    \n",
    "    def add(self, num):\n",
    "        self.result += num\n",
    "        return self.result\n",
    "    \n",
    "    def sub(self, num):\n",
    "        self.result -= num\n",
    "        return self.result\n",
    "\n",
    "cal1 = Calculator()\n",
    "cal2 = Calculator()\n",
    "\n",
    "print(cal1.add(3))\n",
    "print(cal1.add(4))\n",
    "print(cal2.add(3))\n",
    "print(cal2.add(7))"
   ]
  },
  {
   "cell_type": "code",
   "execution_count": 7,
   "metadata": {},
   "outputs": [
    {
     "name": "stdout",
     "output_type": "stream",
     "text": [
      "6\n",
      "8\n",
      "2\n",
      "2.0\n"
     ]
    }
   ],
   "source": [
    "# 사칙연산 클래스 FourCal() 만들어 보기!\n",
    "\n",
    "class FourCal :\n",
    "    def __init__(self, num1, num2): # __init__ 은, 파이썬에서 자동으로 생성자로 인식된다.\n",
    "                                    # setdata 와 생긴 게 똑같지만, 객체가 생성될 때 자동으로 호출된다는 특징이 있음.\n",
    "                                    # a = Fourcal(4,2) 로 하면, 자동으로 값이 init 에 전달된다.\n",
    "        self.num1 = num1\n",
    "        self.num2 = num2\n",
    "\n",
    "    def setdata(self, num1, num2): # method : 클래스 안에 있는 함수들\n",
    "                                   # 처음 self 에는 a 가 전달된다. 객체를 호출한 객체 자신이 전달되기 때문에 self.\n",
    "                                   # 파이썬에서는 명시적으로 첫번째 매개변수 self를 구현해 줘야 한다.\n",
    "        self.num1 = num1 # 메서드의 수행문\n",
    "                         # a 객체 안의 num1 이라는 객체변수가 생성되고, 4라는 값이 저장된다.\n",
    "        self.num2 = num2\n",
    "\n",
    "    def add(self):\n",
    "        result = self.num1 + self.num2 # result 는 클래스 안에서 리턴되는 값이므로, self. 를 붙일 필요가 없다. a에서 받아올 필요가 없다는 느낌\n",
    "                                       # result = a.num1 + a.num2 로 이해하면 된다.\n",
    "                                       # result = 4 + 2\n",
    "        return result\n",
    "    \n",
    "    def sub(self):\n",
    "        result = self.num1 - self.num2\n",
    "        return result\n",
    "    \n",
    "    def mul(self) :\n",
    "        result = self.num1 * self.num2\n",
    "        return result\n",
    "    \n",
    "    def div(self) :\n",
    "        result = self.num1 / self.num2\n",
    "        return result\n",
    "    \n",
    "\n",
    "a = FourCal(4,2)\n",
    "print(a.add())\n",
    "print(a.mul())\n",
    "print(a.sub())\n",
    "print(a.div())"
   ]
  },
  {
   "cell_type": "code",
   "execution_count": 8,
   "metadata": {},
   "outputs": [
    {
     "name": "stdout",
     "output_type": "stream",
     "text": [
      "16\n",
      "8\n"
     ]
    }
   ],
   "source": [
    "# 클래스의 상속\n",
    "# 원래 만들었던 FourCal에서, a^b 값을 구하는 기능을 추가하기\n",
    "class MoreFourCal(FourCal) : # class 클래스_이름(상속할_클래스_이름)\n",
    "    def pow(self): # 특정 기능만 추가하고 싶을 때 이렇게!\n",
    "        result = self.num1 ** self.num2\n",
    "        return result\n",
    "\n",
    "a = MoreFourCal(4,2) # 이렇게 하면, FourCal 클래스의 모든 기능을 사용할 수 있다.\n",
    "print(a.pow())\n",
    "print(a.mul())"
   ]
  },
  {
   "cell_type": "code",
   "execution_count": null,
   "metadata": {},
   "outputs": [],
   "source": [
    "# 메서드 오버라이딩\n",
    "class SafeFourCal(FourCal):\n",
    "    def div(self):\n",
    "        if self.num2 == 0: # 원래 있던 함수를 수정하고 싶을 때\n",
    "                           # div 메서드를 동일한 이름으로 다시 작성함\n",
    "            return 0\n",
    "        else :\n",
    "            return self.num1 / self.num2"
   ]
  },
  {
   "cell_type": "code",
   "execution_count": 11,
   "metadata": {},
   "outputs": [
    {
     "name": "stdout",
     "output_type": "stream",
     "text": [
      "김\n",
      "김\n",
      "최\n",
      "김\n"
     ]
    }
   ],
   "source": [
    "# 클래스변수\n",
    "class Family :\n",
    "    lastname = \"김\" # 여기서 lastname 이 클래스변수이다. 클래스 안에 변수를 선언하여 생성.\n",
    "\n",
    "a = Family()\n",
    "b = Family()\n",
    "print(a.lastname)\n",
    "print(b.lastname) # 클래스로 만든 모든 객체에 대해 같은 변수 '김' 을  가진다는  것을 알 수 있음\n",
    "\n",
    "a.lastname = \"최\"\n",
    "print(a.lastname) # a 안에서 lastname 이라는 객체변수가 새롭게 생성된 것임.\n",
    "                  # 클래스변수와 동일한 이름으로 생성된 것.\n",
    "print(Family.lastname) # 그래서 Family 클래스의 lastname 값은 그대로임."
   ]
  },
  {
   "cell_type": "markdown",
   "metadata": {},
   "source": [
    "# 모듈"
   ]
  },
  {
   "cell_type": "markdown",
   "metadata": {},
   "source": [
    "- 함수나 변수 클래스를 모아 놓은 파이썬 파일\n",
    "\n",
    "- 다른 파이썬 프로그램에서 불러와 사용할 수 있음\n",
    "\n",
    "- 모듈은 직접 만들어 보면서 실습"
   ]
  },
  {
   "cell_type": "code",
   "execution_count": null,
   "metadata": {},
   "outputs": [],
   "source": []
  },
  {
   "cell_type": "markdown",
   "metadata": {},
   "source": [
    "# 패키지"
   ]
  },
  {
   "cell_type": "code",
   "execution_count": null,
   "metadata": {},
   "outputs": [],
   "source": []
  }
 ],
 "metadata": {
  "kernelspec": {
   "display_name": "Python 3",
   "language": "python",
   "name": "python3"
  },
  "language_info": {
   "codemirror_mode": {
    "name": "ipython",
    "version": 3
   },
   "file_extension": ".py",
   "mimetype": "text/x-python",
   "name": "python",
   "nbconvert_exporter": "python",
   "pygments_lexer": "ipython3",
   "version": "3.11.9"
  }
 },
 "nbformat": 4,
 "nbformat_minor": 2
}
