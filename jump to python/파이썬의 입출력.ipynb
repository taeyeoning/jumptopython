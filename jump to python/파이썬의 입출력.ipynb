{
 "cells": [
  {
   "cell_type": "markdown",
   "metadata": {},
   "source": [
    "# 함수"
   ]
  },
  {
   "attachments": {
    "image.png": {
     "image/png": "[encoded data removed]"
    }
   },
   "cell_type": "markdown",
   "metadata": {},
   "source": [
    "입력값 가지고 어떤 일 수행하고, 결과값 내놓는 것.\n",
    "\n",
    "반복적으로 사용되는 가치 있는 부분을 한 뭉치로 묶어, 어떤 입력값을 주었을 때 어떤 결과값을 리턴해 준다\n",
    "\n",
    "![image.png](attachment:image.png)"
   ]
  },
  {
   "cell_type": "markdown",
   "metadata": {},
   "source": [
    "1. 입력값이 있고, 리턴값이 있는 함수\n",
    "\n",
    "        입력값은 동시에 여러 개를 받을 수도 있음\n",
    "\n",
    "2. 입력값이 없는 함수\n",
    "\n",
    "        say() 처럼, 괄호 안에 아무런 값도 넣지 말고 리턴할 수 있다.\n",
    "\n",
    "3. 리턴값이 없는 함수\n",
    "\n",
    "        print(\"\") 로 출력되는 값이 있다고 해도, return 으로 리턴되는 값이 없으면 없는 걸로 친다.\n",
    "\n",
    "4. 입력값도, 리턴값도 없는 함수\n",
    "\n",
    "        입력 인수 받는 매개변수도 없고, return 문도 없는 경우."
   ]
  },
  {
   "cell_type": "code",
   "execution_count": 1,
   "metadata": {},
   "outputs": [
    {
     "name": "stdout",
     "output_type": "stream",
     "text": [
      "6\n"
     ]
    }
   ],
   "source": [
    "def add_many(*args): # 매개변수 몇 개인지 지정하지 않은 경우\n",
    "    result = 0\n",
    "    for i in args :\n",
    "        result += i\n",
    "    return result\n",
    "\n",
    "result = add_many(1,2,3)\n",
    "print(result)"
   ]
  },
  {
   "cell_type": "code",
   "execution_count": 2,
   "metadata": {},
   "outputs": [
    {
     "name": "stdout",
     "output_type": "stream",
     "text": [
      "나의 별명은 야호 입니다.\n"
     ]
    }
   ],
   "source": [
    "def say_nick(nick) :\n",
    "    if nick == \"바보\" :\n",
    "        return # 함수를 빠져나가고 싶은 경우.\n",
    "    print(\"나의 별명은 %s 입니다.\" % nick) # 바보가 아닐 경우에는 리턴값 없음. 자미와염..\n",
    "\n",
    "say_nick(\"야호\")"
   ]
  },
  {
   "cell_type": "code",
   "execution_count": 4,
   "metadata": {},
   "outputs": [
    {
     "name": "stdout",
     "output_type": "stream",
     "text": [
      "None\n",
      "1\n"
     ]
    }
   ],
   "source": [
    "a = 1\n",
    "\n",
    "def vartest(a) :\n",
    "    a += 1\n",
    "\n",
    "print(vartest(a)) # 함수 안에서만 쓰는 a는 리턴값 없고, 지역변수라서 함수 밖의 진짜 a에게 영향 주지 않음\n",
    "print(a) # 1은 그대로 1로 출력됨"
   ]
  },
  {
   "cell_type": "code",
   "execution_count": 5,
   "metadata": {},
   "outputs": [
    {
     "name": "stdout",
     "output_type": "stream",
     "text": [
      "2\n"
     ]
    }
   ],
   "source": [
    "# 함수 안에서 함수 밖의 변수를 변경하는 방법\n",
    "a = 1\n",
    "def vartest(a) :\n",
    "    a += 1\n",
    "    return a\n",
    "\n",
    "a = vartest(a)\n",
    "print(a)"
   ]
  },
  {
   "cell_type": "markdown",
   "metadata": {},
   "source": [
    "# 사용자 입출력"
   ]
  },
  {
   "cell_type": "code",
   "execution_count": 6,
   "metadata": {},
   "outputs": [
    {
     "name": "stdout",
     "output_type": "stream",
     "text": [
      "lifeistoo short\n",
      "lifeistoo short\n"
     ]
    }
   ],
   "source": [
    "print(\"life\" \"is\" \"too short\")\n",
    "\n",
    "print(\"life\"+\"is\"+\"too short\")\n",
    "# 따옴표로 둘러싸인 문자열을 연속해서 쓰면, +연산을 한 것과 같다."
   ]
  },
  {
   "cell_type": "code",
   "execution_count": 7,
   "metadata": {},
   "outputs": [
    {
     "name": "stdout",
     "output_type": "stream",
     "text": [
      "0 1 2 3 4 5 6 7 8 9 "
     ]
    }
   ],
   "source": [
    "for i in range(10):\n",
    "    print(i, end = \" \") # 원래 출력마다 한 줄씩 띄워지지만, 이어서 출력하려면 매개변수 end 를 사용한다."
   ]
  },
  {
   "cell_type": "markdown",
   "metadata": {},
   "source": [
    "# 파일 읽고 쓰기"
   ]
  },
  {
   "cell_type": "markdown",
   "metadata": {},
   "source": [
    "파일을 통한 입출력 방법 : 파일을 새로 만든 다음에, 프로그램이 만든 결과값을 새 파일에 적는다.\n",
    "\n",
    "python IDLE 에서 진행..."
   ]
  },
  {
   "cell_type": "markdown",
   "metadata": {},
   "source": [
    "# 프로그램의 입출력"
   ]
  },
  {
   "cell_type": "markdown",
   "metadata": {},
   "source": [
    "sys 모듈 : 프로그램에 인수 전달"
   ]
  },
  {
   "cell_type": "code",
   "execution_count": null,
   "metadata": {},
   "outputs": [],
   "source": []
  }
 ],
 "metadata": {
  "kernelspec": {
   "display_name": "Python 3",
   "language": "python",
   "name": "python3"
  },
  "language_info": {
   "codemirror_mode": {
    "name": "ipython",
    "version": 3
   },
   "file_extension": ".py",
   "mimetype": "text/x-python",
   "name": "python",
   "nbconvert_exporter": "python",
   "pygments_lexer": "ipython3",
   "version": "3.11.9"
  }
 },
 "nbformat": 4,
 "nbformat_minor": 2
}
