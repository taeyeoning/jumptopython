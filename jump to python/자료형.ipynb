{
 "cells": [
  {
   "cell_type": "markdown",
   "metadata": {},
   "source": [
    "# 숫자형"
   ]
  },
  {
   "cell_type": "code",
   "execution_count": null,
   "metadata": {},
   "outputs": [],
   "source": [
    "#컴퓨터식 지수 표현 방식\n",
    "a = 4.24E10 # 4.24 * 10^10\n",
    "a = 4.24e-10 # 4.24 * 10^-10\n",
    "\n",
    "# 8진수\n",
    "a = 0o177 # 1 * 8^2 + 7 * 8^1 + 7 * 8^0 = 127\n",
    "\n",
    "# 16진수\n",
    "a = 0xABC # 10 * 16^2 + 11 * 16^1 + 12 * 16^0 = 2748\n",
    "\n",
    "# 연산자\n",
    "a = 3\n",
    "b = 4\n",
    "a ** b # a^b = 3^4 = 81\n",
    "7 / 4 # 1.75\n",
    "7 // 4 # 1(몫만 반환)\n",
    "7 % 4 # 3 (나머지만 반환)"
   ]
  },
  {
   "cell_type": "markdown",
   "metadata": {},
   "source": [
    "# 문자형 자료형"
   ]
  },
  {
   "cell_type": "code",
   "execution_count": 1,
   "metadata": {},
   "outputs": [
    {
     "name": "stdout",
     "output_type": "stream",
     "text": [
      "\"Python is very easy\". he says.\n",
      "Python's favorite food is perl\n",
      "Life is too short\n",
      "You need python\n"
     ]
    }
   ],
   "source": [
    "# 큰따옴표를 포함시키고 싶으면 작은따옴표로 싸기\n",
    "say = '\"Python is very easy\". he says.'\n",
    "\n",
    "# 둘 다 포함하기\n",
    "food = 'Python\\'s favorite food is perl' # \\ 뒤에 있는 '은 ' 자체로 인식하게 됨\n",
    "\n",
    "# 엔터를 포함하기\n",
    "multiline = \"Life is too short\\nYou need python\"\n",
    "\n",
    "print(say)\n",
    "print(food)\n",
    "print(multiline)"
   ]
  },
  {
   "cell_type": "code",
   "execution_count": 2,
   "metadata": {},
   "outputs": [
    {
     "name": "stdout",
     "output_type": "stream",
     "text": [
      "==================================================\n",
      "My program\n",
      "==================================================\n"
     ]
    }
   ],
   "source": [
    "print(\"=\"*50)\n",
    "print(\"My program\")\n",
    "print(\"=\"*50)"
   ]
  },
  {
   "cell_type": "code",
   "execution_count": 6,
   "metadata": {},
   "outputs": [
    {
     "name": "stdout",
     "output_type": "stream",
     "text": [
      "e\n",
      "t\n",
      "n\n",
      "Life\n"
     ]
    }
   ],
   "source": [
    "a = \"Life is short, You need Python\"\n",
    "print(a[3]) # a라는 문자열의 네번째 문자 e를 의미한다.\n",
    "print(a[12])\n",
    "print(a[-1]) # 가장 끝 문자를 의미함.\n",
    "print(a[0:4]) # 문자열 슬라이싱, 자리 번호 0부터 4까지의 문자를 뽑아낸다. 이때 마지막 4는 포함하지 않음."
   ]
  },
  {
   "cell_type": "code",
   "execution_count": 5,
   "metadata": {},
   "outputs": [
    {
     "name": "stdout",
     "output_type": "stream",
     "text": [
      "Life\n"
     ]
    }
   ],
   "source": [
    "b = a[0] + a[1] + a[2] + a[3]\n",
    "print(b)"
   ]
  },
  {
   "cell_type": "markdown",
   "metadata": {},
   "source": [
    "## 문자열 포매팅"
   ]
  },
  {
   "cell_type": "markdown",
   "metadata": {},
   "source": [
    "문자열 안에 어떤 값을 삽입하는 방법"
   ]
  },
  {
   "cell_type": "code",
   "execution_count": 9,
   "metadata": {},
   "outputs": [
    {
     "name": "stdout",
     "output_type": "stream",
     "text": [
      "I eat 3 apples\n",
      "I eat five apples\n",
      "I ate 10 apples. so I was sick for three days.\n"
     ]
    }
   ],
   "source": [
    "form = \"I eat %d apples\" % 3 # 여기서 %d 가 문자열 포맷 코드이다. 숫자를 넣기 위해서 %d, 문자열을 넣기 위해서 %s\n",
    "print(form)\n",
    "\n",
    "form = \"I eat %s apples\" % 'five'\n",
    "print(form)\n",
    "\n",
    "number = 10\n",
    "day = 'three'\n",
    "form = \"I ate %d apples. so I was sick for %s days.\" % (number, day) # 2개 이상의 값을 넣으려면 % 다음 괄호 안에 쉼표로 구분해 표시\n",
    "print(form)"
   ]
  },
  {
   "cell_type": "code",
   "execution_count": 14,
   "metadata": {},
   "outputs": [
    {
     "name": "stdout",
     "output_type": "stream",
     "text": [
      "        hi\n",
      "hello     jane\n"
     ]
    }
   ],
   "source": [
    "# 정렬과 공백\n",
    "hi = \"%10s\" % \"hi\" # %10s 는 전체 길이가 10칸인 문자열에서, 대입하는 hi를 오른쪽에 정렬하고 앞의 나머지는 공백으로 남겨둔다는 의미\n",
    "print(hi)\n",
    "\n",
    "name = \"%-10sjane\" % \"hello\" # %-10s 는 전체 길이 10칸인 문자열에서, 왼쪽으로 hello 를 정렬하고 남은 5칸은 공백으로 남겨둔다\n",
    "print(name)"
   ]
  },
  {
   "cell_type": "code",
   "execution_count": 15,
   "metadata": {},
   "outputs": [
    {
     "name": "stdout",
     "output_type": "stream",
     "text": [
      "I eat 3 apples\n",
      "I ate 10 apples. so I was sick for three days.\n",
      "I ate 10 apples. so I was sick for 3 days.\n"
     ]
    }
   ],
   "source": [
    "# format 함수로 문자열 포맷 지정\n",
    "a = \"I eat {0} apples\".format(3)\n",
    "print(a)\n",
    "\n",
    "number = 10\n",
    "day = \"three\"\n",
    "a = \"I ate {0} apples. so I was sick for {1} days.\".format(number, day) # 두 개 이상의 값을 넣을 경우에는, 순서에 맞게\n",
    "print(a)\n",
    "\n",
    "# 이름으로 지정\n",
    "a = \"I ate {number} apples. so I was sick for {day} days.\".format(number = 10, day = 3)\n",
    "print(a)"
   ]
  },
  {
   "cell_type": "code",
   "execution_count": 18,
   "metadata": {},
   "outputs": [
    {
     "name": "stdout",
     "output_type": "stream",
     "text": [
      "hi        \n",
      "        hi\n",
      "    hi    \n",
      "====hi====\n"
     ]
    }
   ],
   "source": [
    "# format 함수로 정렬\n",
    "a = \"{0:<10}\".format(\"hi\") # 화살표 방향대로, 전체 10칸 중에서 왼쪽에 정렬\n",
    "print(a)\n",
    "\n",
    "a = \"{0:>10}\".format(\"hi\") # 오른쪽에 정렬\n",
    "print(a)\n",
    "\n",
    "a = \"{0:^10}\".format(\"hi\") # 가운데 정렬\n",
    "print(a)\n",
    "\n",
    "a = \"{0:=^10}\".format(\"hi\") # 공백 채우기\n",
    "print(a)"
   ]
  },
  {
   "cell_type": "markdown",
   "metadata": {},
   "source": [
    "## 관련 함수"
   ]
  },
  {
   "cell_type": "code",
   "execution_count": 21,
   "metadata": {},
   "outputs": [
    {
     "name": "stdout",
     "output_type": "stream",
     "text": [
      "2\n",
      "5\n",
      "-1\n",
      "3\n"
     ]
    }
   ],
   "source": [
    "a = \"Taeyeon\"\n",
    "print(a.count('e')) # a 라는 문자열에서, e 의 개수를 리턴한다.\n",
    "print(a.find('o')) # 첫번째로 o 가 나온 위치를 리턴한다.\n",
    "print(a.find('x')) # 없으면 -1 을 리턴\n",
    "print(a.index('y')) # find 와 똑같은데, 없으면 오류 발생함"
   ]
  },
  {
   "cell_type": "code",
   "execution_count": 22,
   "metadata": {},
   "outputs": [
    {
     "name": "stdout",
     "output_type": "stream",
     "text": [
      "a,b,c,d\n"
     ]
    }
   ],
   "source": [
    "new = \",\".join('abcd') # abcd 사이에 , 를 삽입한다\n",
    "print(new)"
   ]
  },
  {
   "cell_type": "code",
   "execution_count": 26,
   "metadata": {},
   "outputs": [
    {
     "name": "stdout",
     "output_type": "stream",
     "text": [
      "Your leg is too short\n",
      "['Your', 'leg', 'is', 'too', 'short']\n"
     ]
    }
   ],
   "source": [
    "# 그 외 upper, lower\n",
    "# 왼쪽 공백 지우는 lstrip, 오른쪽 공백 rstrip, 양쪽 공백 strip\n",
    "\n",
    "a = \"Life is too short\"\n",
    "a = a.replace(\"Life\", \"Your leg\") # 문자열 바꾸기\n",
    "print(a)\n",
    "\n",
    "a = a.split() # 문자열 나누기\n",
    "print(a)"
   ]
  },
  {
   "cell_type": "markdown",
   "metadata": {},
   "source": [
    "# 리스트 자료형"
   ]
  },
  {
   "cell_type": "code",
   "execution_count": 27,
   "metadata": {},
   "outputs": [
    {
     "name": "stdout",
     "output_type": "stream",
     "text": [
      "4\n"
     ]
    }
   ],
   "source": [
    "a = [1,2,3]\n",
    "print(a[0] + a[2])"
   ]
  },
  {
   "cell_type": "code",
   "execution_count": 28,
   "metadata": {},
   "outputs": [
    {
     "name": "stdout",
     "output_type": "stream",
     "text": [
      "['a', 'b', 'c']\n",
      "a\n"
     ]
    }
   ],
   "source": [
    "a= [1,2,3,['a', 'b', 'c']]\n",
    "print(a[3])\n",
    "print(a[3][0]) # 네번째 abc 인덱스에서 첫번째 값을 꺼낸다"
   ]
  },
  {
   "cell_type": "code",
   "execution_count": 29,
   "metadata": {},
   "outputs": [
    {
     "name": "stdout",
     "output_type": "stream",
     "text": [
      "[1, 2, 3, 4, 5, 6]\n",
      "[1, 2, 3, 1, 2, 3, 1, 2, 3]\n"
     ]
    }
   ],
   "source": [
    "a = [1,2,3]\n",
    "b = [4,5,6]\n",
    "print(a+b) # 문자열처럼 뒤에 더 붙는다고 이해하면 좋음\n",
    "print(a*3) # 문자열과 동일"
   ]
  },
  {
   "cell_type": "code",
   "execution_count": 32,
   "metadata": {},
   "outputs": [
    {
     "name": "stdout",
     "output_type": "stream",
     "text": [
      "[1, 3]\n",
      "[1, 2, 3]\n"
     ]
    }
   ],
   "source": [
    "a = [1,2,3]\n",
    "del a[1] # a의 1번째 요소값을 삭제한다는 의미\n",
    "print(a)\n",
    "\n",
    "a = [1,2,3,4,5]\n",
    "del a[3:]\n",
    "print(a)"
   ]
  },
  {
   "cell_type": "code",
   "execution_count": 36,
   "metadata": {},
   "outputs": [
    {
     "name": "stdout",
     "output_type": "stream",
     "text": [
      "[1, 2, 3, 4]\n",
      "[1, 2, 2, 4, 4, 6, 6, 9]\n",
      "[4, 1, 2, 3]\n",
      "[1, 2, 3, 4, 5]\n"
     ]
    }
   ],
   "source": [
    "a = [1,2,3]\n",
    "a.append(4) # 4를 맨 뒤에 삽입한다.\n",
    "print(a)\n",
    "\n",
    "a = [4,2,6,2,4,6,9,1]\n",
    "a.sort() # 정렬\n",
    "print(a)\n",
    "\n",
    "a = [1,2,3]\n",
    "a.insert(0,4) # 0번째 위치에 4를 삽입한다. (위치까지 같이 지정)\n",
    "print(a)\n",
    "\n",
    "a = [1,2,3]\n",
    "a.extend([4,5]) # extend 뒤에는 리스트만 올 수 있고, 원래 리스트에 이 리스트를 더해준다\n",
    "print(a) "
   ]
  },
  {
   "cell_type": "markdown",
   "metadata": {},
   "source": [
    "# 튜플 자료형"
   ]
  },
  {
   "cell_type": "markdown",
   "metadata": {},
   "source": [
    "튜플의 요소값은 한번 정하면 지우거나 변경할 수 없음. 그 외는 리스트와 동일"
   ]
  },
  {
   "cell_type": "code",
   "execution_count": 37,
   "metadata": {},
   "outputs": [
    {
     "data": {
      "text/plain": [
       "1"
      ]
     },
     "execution_count": 37,
     "metadata": {},
     "output_type": "execute_result"
    }
   ],
   "source": [
    "t1 = (1,2,'a','b')\n",
    "t1[0]"
   ]
  },
  {
   "cell_type": "markdown",
   "metadata": {},
   "source": [
    "# 딕셔너리 자료형"
   ]
  },
  {
   "cell_type": "markdown",
   "metadata": {},
   "source": [
    "이름 = 홍길동, 생일 = 몇월며칠 같은 방식으로 대응 관계를 나타낼 수 있다.\n",
    "\n",
    "key와 value 를 한 쌍으로 가지는 자료형이다.\n",
    "\n",
    "리스트나 튜플처럼 순차적으로 요솟값을 구하는 것이 아니라, key를 통해 value 를 얻는다."
   ]
  },
  {
   "cell_type": "code",
   "execution_count": 39,
   "metadata": {},
   "outputs": [
    {
     "data": {
      "text/plain": [
       "{'name': 'min', 'phone': '010-9999-1234', 'birth': '0108'}"
      ]
     },
     "execution_count": 39,
     "metadata": {},
     "output_type": "execute_result"
    }
   ],
   "source": [
    "dic = {'name' : 'min', 'phone' : '010-9999-1234', 'birth' : '0108'}\n",
    "\n",
    "dic"
   ]
  },
  {
   "cell_type": "code",
   "execution_count": 42,
   "metadata": {},
   "outputs": [
    {
     "name": "stdout",
     "output_type": "stream",
     "text": [
      "{1: 'hi', 2: 'b'}\n",
      "{1: 'hi', 2: 'b', 'name': 'min'}\n",
      "{2: 'b', 'name': 'min'}\n"
     ]
    }
   ],
   "source": [
    "a = {1 : 'hi'}\n",
    "a[2] = 'b' # key = value 형식으로!!\n",
    "print(a)\n",
    "\n",
    "a['name'] = 'min'\n",
    "print(a)\n",
    "\n",
    "del a[1] # 지정한 키에 해당하는 쌍이 삭제된다.\n",
    "print(a)"
   ]
  },
  {
   "cell_type": "code",
   "execution_count": 43,
   "metadata": {},
   "outputs": [
    {
     "data": {
      "text/plain": [
       "'min'"
      ]
     },
     "execution_count": 43,
     "metadata": {},
     "output_type": "execute_result"
    }
   ],
   "source": [
    "dic = {'name' : 'min', 'phone' : '010-9999-1234', 'birth' : '0108'}\n",
    "\n",
    "dic['name'] # 키를 통해 value 얻는 방법!!"
   ]
  },
  {
   "cell_type": "code",
   "execution_count": 45,
   "metadata": {},
   "outputs": [
    {
     "name": "stdout",
     "output_type": "stream",
     "text": [
      "dict_keys(['name', 'phone', 'birth'])\n",
      "dict_values(['min', '010-9999-1234', '0108'])\n",
      "dict_items([('name', 'min'), ('phone', '010-9999-1234'), ('birth', '0108')])\n"
     ]
    },
    {
     "data": {
      "text/plain": [
       "{}"
      ]
     },
     "execution_count": 45,
     "metadata": {},
     "output_type": "execute_result"
    }
   ],
   "source": [
    "dic = {'name' : 'min', 'phone' : '010-9999-1234', 'birth' : '0108'}\n",
    "print(dic.keys()) # 키만 모여 있는 리스트가 리턴된다.\n",
    "print(dic.values()) # value만 모여 있는 리스트\n",
    "print(dic.items()) # key, value 쌍 얻기\n",
    "dic.clear() # 쌍 모두 지우기\n",
    "dic"
   ]
  },
  {
   "cell_type": "code",
   "execution_count": 47,
   "metadata": {},
   "outputs": [
    {
     "name": "stdout",
     "output_type": "stream",
     "text": [
      "0108\n",
      "False\n"
     ]
    }
   ],
   "source": [
    "dic = {'name' : 'min', 'phone' : '010-9999-1234', 'birth' : '0108'}\n",
    "\n",
    "print(dic.get('birth')) # get 명령어로, key에 대응된s value 를 return 한다.\n",
    "\n",
    "print('favorite' in dic) # dic 안에 그 key 가 있는지 확인하는 명령어 in"
   ]
  },
  {
   "cell_type": "markdown",
   "metadata": {},
   "source": [
    "# 집합 자료형"
   ]
  },
  {
   "cell_type": "code",
   "execution_count": 49,
   "metadata": {},
   "outputs": [
    {
     "name": "stdout",
     "output_type": "stream",
     "text": [
      "{1, 2, 3}\n",
      "{'o', 'l', 'h', 'e'}\n"
     ]
    }
   ],
   "source": [
    "s1 = set([1,2,3])\n",
    "print(s1)\n",
    "s2 = set(\"hello\") # 결과 확인해 보면, 중복 허용하지 않고 순서도 없다.\n",
    "print(s2)"
   ]
  },
  {
   "cell_type": "code",
   "execution_count": 50,
   "metadata": {},
   "outputs": [
    {
     "name": "stdout",
     "output_type": "stream",
     "text": [
      "{4, 5, 6}\n",
      "{1, 2, 3, 4, 5, 6, 7, 8, 9}\n",
      "{1, 2, 3}\n"
     ]
    }
   ],
   "source": [
    "s1 = set([1,2,3,4,5,6])\n",
    "s2 = set([4,5,6,7,8,9])\n",
    "\n",
    "print(s1 & s2) # 교집합\n",
    "print(s1 | s2) # 합집합\n",
    "print(s1 - s2) # 차집합"
   ]
  },
  {
   "cell_type": "code",
   "execution_count": 51,
   "metadata": {},
   "outputs": [
    {
     "data": {
      "text/plain": [
       "{1, 2, 3, 4, 5, 6}"
      ]
     },
     "execution_count": 51,
     "metadata": {},
     "output_type": "execute_result"
    }
   ],
   "source": [
    "s1 = set([1,2,3])\n",
    "s1.update([4,5,6]) # 새로 값 추가할 때 update\n",
    "s1"
   ]
  },
  {
   "cell_type": "markdown",
   "metadata": {},
   "source": [
    "# 불 자료형"
   ]
  },
  {
   "cell_type": "markdown",
   "metadata": {},
   "source": [
    "True, False 만을 나타내는 자료형이다. 첫 문자를 항상 대문자로 작성해야 한다."
   ]
  },
  {
   "cell_type": "markdown",
   "metadata": {},
   "source": [
    "> 자료형에도 참과 거짓이 있는데, 문자열, 리스트, 튜플, 딕셔너리 등의 값이 비어 있으면(\"\", [], (), {}) 거짓이 되고 아니면 참이 된다.\n",
    "\n",
    "> 숫자에서는 그 값이 0이 될 때 거짓이다."
   ]
  },
  {
   "cell_type": "code",
   "execution_count": 56,
   "metadata": {},
   "outputs": [
    {
     "data": {
      "text/plain": [
       "bool"
      ]
     },
     "execution_count": 56,
     "metadata": {},
     "output_type": "execute_result"
    }
   ],
   "source": [
    "a = True\n",
    "b = False\n",
    "type(a)"
   ]
  },
  {
   "cell_type": "code",
   "execution_count": 57,
   "metadata": {},
   "outputs": [
    {
     "data": {
      "text/plain": [
       "True"
      ]
     },
     "execution_count": 57,
     "metadata": {},
     "output_type": "execute_result"
    }
   ],
   "source": [
    "1==1 # 조건문의 리턴값으로도 사용된다. 1이 1과 같은지를 묻는 조건문이다."
   ]
  },
  {
   "cell_type": "code",
   "execution_count": 58,
   "metadata": {},
   "outputs": [
    {
     "data": {
      "text/plain": [
       "True"
      ]
     },
     "execution_count": 58,
     "metadata": {},
     "output_type": "execute_result"
    }
   ],
   "source": [
    "bool('python') # 값이 비어 있지 않으므로 true"
   ]
  },
  {
   "cell_type": "markdown",
   "metadata": {},
   "source": [
    "# 변수"
   ]
  },
  {
   "cell_type": "markdown",
   "metadata": {},
   "source": [
    "객체를 의미한다.\n",
    "\n",
    "    a = [1, 2, 3] 에서 리스트가 자동으로 메모리에 생성되고, a는 그 리스트가 저장된 메모리의 주소를 가리키게 된다."
   ]
  },
  {
   "cell_type": "code",
   "execution_count": 59,
   "metadata": {},
   "outputs": [
    {
     "data": {
      "text/plain": [
       "1916044914624"
      ]
     },
     "execution_count": 59,
     "metadata": {},
     "output_type": "execute_result"
    }
   ],
   "source": [
    "a = [1,2,3]\n",
    "id(a)"
   ]
  },
  {
   "cell_type": "code",
   "execution_count": 60,
   "metadata": {},
   "outputs": [
    {
     "name": "stdout",
     "output_type": "stream",
     "text": [
      "1916044914624\n",
      "1916044914624\n",
      "True\n"
     ]
    }
   ],
   "source": [
    "b = a\n",
    "print(id(a))\n",
    "print(id(b))\n",
    "print(a is b) # 동일한 객체를 가리키고 있기 때문에 참이다."
   ]
  },
  {
   "cell_type": "code",
   "execution_count": 61,
   "metadata": {},
   "outputs": [
    {
     "name": "stdout",
     "output_type": "stream",
     "text": [
      "[1, 4, 3]\n",
      "[1, 2, 3]\n"
     ]
    }
   ],
   "source": [
    "# 다른 주소를 가리키게 하는 방법\n",
    "b = a[:] # a의 주소를 가져오는 것이 아니라, 리스트 전체를 가리키는 [:] 로 복사를 해준 것이다.\n",
    "a[1] = 4\n",
    "print(a)\n",
    "print(b)"
   ]
  }
 ],
 "metadata": {
  "kernelspec": {
   "display_name": "Python 3",
   "language": "python",
   "name": "python3"
  },
  "language_info": {
   "codemirror_mode": {
    "name": "ipython",
    "version": 3
   },
   "file_extension": ".py",
   "mimetype": "text/x-python",
   "name": "python",
   "nbconvert_exporter": "python",
   "pygments_lexer": "ipython3",
   "version": "3.11.9"
  }
 },
 "nbformat": 4,
 "nbformat_minor": 2
}
