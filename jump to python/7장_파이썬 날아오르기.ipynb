{
 "cells": [
  {
   "cell_type": "markdown",
   "metadata": {},
   "source": [
    "# 파이썬과 유니코드"
   ]
  },
  {
   "cell_type": "markdown",
   "metadata": {},
   "source": [
    "## 아스키 코드\n",
    "\n",
    "- 숫자마다 문자를 매핑해서, 해당 숫자를 문자로 대체하여 인식하기\n",
    "\n",
    "- 아스키라는 문자 셋  규칙을 정해서, 영문자, 숫자를 주고받을 수 있게 함"
   ]
  },
  {
   "cell_type": "markdown",
   "metadata": {},
   "source": [
    "## 유니코드\n",
    "\n",
    "- 비영어권 국가의 언어를 포함하여, 모든 문자를 컴퓨터로 표현할 수 있음"
   ]
  },
  {
   "cell_type": "code",
   "execution_count": 34,
   "metadata": {},
   "outputs": [
    {
     "data": {
      "text/plain": [
       "b'Life if too short'"
      ]
     },
     "execution_count": 34,
     "metadata": {},
     "output_type": "execute_result"
    }
   ],
   "source": [
    "a = \"Life if too short\"\n",
    "\n",
    "b = a.encode('utf-8')\n",
    "b"
   ]
  },
  {
   "cell_type": "code",
   "execution_count": 35,
   "metadata": {},
   "outputs": [
    {
     "data": {
      "text/plain": [
       "b'\\xc7\\xd1\\xb1\\xdb'"
      ]
     },
     "execution_count": 35,
     "metadata": {},
     "output_type": "execute_result"
    }
   ],
   "source": [
    "a = \"한글\"\n",
    "# a.encode('ascii')\n",
    "# 한글은 아스키 코드로 표현할 수 없으므로 오류 발생\n",
    "\n",
    "a.encode('euc-kr')"
   ]
  },
  {
   "cell_type": "code",
   "execution_count": 36,
   "metadata": {},
   "outputs": [
    {
     "data": {
      "text/plain": [
       "'한글'"
      ]
     },
     "execution_count": 36,
     "metadata": {},
     "output_type": "execute_result"
    }
   ],
   "source": [
    "b = a.encode('euc-kr')\n",
    "b.decode('euc-kr') # 인코딩한 걸  다시 디코딩할 수 있음"
   ]
  },
  {
   "cell_type": "markdown",
   "metadata": {},
   "source": [
    "# 클로저와 데코레이터"
   ]
  },
  {
   "cell_type": "markdown",
   "metadata": {},
   "source": [
    "##  클로저\n",
    "\n",
    "- 함수 안에 내부  함수를  구현하고, 그 내부 함수를 리턴함"
   ]
  },
  {
   "cell_type": "code",
   "execution_count": 37,
   "metadata": {},
   "outputs": [
    {
     "name": "stdout",
     "output_type": "stream",
     "text": [
      "30\n",
      "50\n"
     ]
    }
   ],
   "source": [
    "class Mul:\n",
    "    def __init__(self, m) :\n",
    "        self.m = m\n",
    "    \n",
    "    def mul(self, n) :\n",
    "        return self.m * n\n",
    "    \n",
    "if __name__ == '__main__':\n",
    "    mul3 = Mul(3)\n",
    "    mul5 = Mul(5)\n",
    "\n",
    "    print(mul3.mul(10))\n",
    "    print(mul5.mul(10))"
   ]
  },
  {
   "cell_type": "code",
   "execution_count": 38,
   "metadata": {},
   "outputs": [
    {
     "name": "stdout",
     "output_type": "stream",
     "text": [
      "30\n",
      "50\n"
     ]
    }
   ],
   "source": [
    "class Mul:\n",
    "    def __init__(self, m) :\n",
    "        self.m = m\n",
    "    \n",
    "    def __call__(self, n) : # mul 함수 이름을 __call__ 로 변경함.\n",
    "                            # __call__ 은 Mul 클래스로 만든 객체에, 인수를 전달하여 바로 호출할 수 있음.\n",
    "        return self.m * n\n",
    "    \n",
    "if __name__ == '__main__':\n",
    "    mul3 = Mul(3)\n",
    "    mul5 = Mul(5)\n",
    "\n",
    "    print(mul3(10))\n",
    "    print(mul5(10))"
   ]
  },
  {
   "cell_type": "code",
   "execution_count": 39,
   "metadata": {},
   "outputs": [
    {
     "name": "stdout",
     "output_type": "stream",
     "text": [
      "30\n",
      "50\n"
     ]
    }
   ],
   "source": [
    "def Mul(m): # 외부 함수 mul\n",
    "    def wrapper(n) : # 내부 함수 wrapper\n",
    "        return m * n\n",
    "    return wrapper # 외부 함수는 내부 함수 wrapper 를 리턴함\n",
    "                   # 함수가 함수를 리턴할 수 있음\n",
    "                   # mul 함수 호출 시 인수로 받은 m 값을 wrapper 함수에 저장해서 리턴할 수 있음.\n",
    "                   # mul 과 같은 함수를 closure(클로저) 라고 함.\n",
    "    \n",
    "if __name__ == '__main__':\n",
    "    mul3 = Mul(3)\n",
    "    mul5 = Mul(5)\n",
    "\n",
    "    print(mul3(10))\n",
    "    print(mul5(10))"
   ]
  },
  {
   "cell_type": "markdown",
   "metadata": {},
   "source": [
    "## 데코레이터\n",
    "\n",
    "- 함수의 실행 시간을 측정 : 함수가 시작하는 순간 & 종료되는 순간의 시간 차이"
   ]
  },
  {
   "cell_type": "code",
   "execution_count": 40,
   "metadata": {},
   "outputs": [
    {
     "name": "stdout",
     "output_type": "stream",
     "text": [
      "함수가 실행됩니다.\n",
      "함수 수행시간 : 0.000000 초\n"
     ]
    }
   ],
   "source": [
    "import time\n",
    "\n",
    "def myfunc() :\n",
    "    start = time.time() # time.time() 통해 실행  시간 측정할 수 있지만, 비효율적임.\n",
    "    print(\"함수가 실행됩니다.\")\n",
    "    end = time.time()\n",
    "    print(\"함수 수행시간 : %f 초\" % (end - start))\n",
    "\n",
    "myfunc()"
   ]
  },
  {
   "cell_type": "code",
   "execution_count": 41,
   "metadata": {},
   "outputs": [
    {
     "name": "stdout",
     "output_type": "stream",
     "text": [
      "함수가 실행됩니다. \n",
      "함수 수행 시간 : 0.000000 초\n"
     ]
    }
   ],
   "source": [
    "import time\n",
    "\n",
    "def elapsed(origin_func) :\n",
    "    def wrapper() :\n",
    "        start = time.time()\n",
    "        result = origin_func()\n",
    "        end = time.time()\n",
    "        print(\"함수 수행 시간 : %f 초\" % (end - start))\n",
    "        return result # 기존 함수의 수행 결과를 리턴함.\n",
    "    return wrapper\n",
    "\n",
    "def myfunc():\n",
    "    print(\"함수가 실행됩니다. \")\n",
    "\n",
    "decorated_myfunc = elapsed(myfunc)\n",
    "decorated_myfunc()"
   ]
  },
  {
   "cell_type": "code",
   "execution_count": 42,
   "metadata": {},
   "outputs": [
    {
     "name": "stdout",
     "output_type": "stream",
     "text": [
      "함수가 실행됩니다. \n",
      "함수 수행 시간 : 0.000000 초\n"
     ]
    }
   ],
   "source": [
    "import time\n",
    "\n",
    "def elapsed(origin_func) :\n",
    "    def wrapper() :\n",
    "        start = time.time()\n",
    "        result = origin_func()\n",
    "        end = time.time()\n",
    "        print(\"함수 수행 시간 : %f 초\" % (end - start))\n",
    "        return result # 기존 함수의 수행 결과를 리턴함.\n",
    "    return wrapper\n",
    "\n",
    "@elapsed # @함수명 이 있으면, 데코레이터로 인식된다.\n",
    "def myfunc():\n",
    "    print(\"함수가 실행됩니다. \")\n",
    "\n",
    "# decorated_myfunc = elapsed(myfunc)\n",
    "# decorated_myfunc()\n",
    "# @elapsed 가 있으므로, 필요하지 않다.\n",
    "\n",
    "myfunc()"
   ]
  },
  {
   "cell_type": "code",
   "execution_count": 43,
   "metadata": {},
   "outputs": [
    {
     "name": "stdout",
     "output_type": "stream",
     "text": [
      "'You need python' 를 출력합니다. \n",
      "함수 수행 시간 : 0.001000 초\n"
     ]
    }
   ],
   "source": [
    "import time\n",
    "\n",
    "def elapsed(origin_func) : # 기존 함수를 인수로 받음.\n",
    "    def wrapper(*args, **kwargs) : # 매개변수를 추가함.\n",
    "                                   # *args : 모든 입력 인수를 튜플로 변환하는 매개변수\n",
    "                                   # **kwargs : 모든 키=값 형태의 입력 인수를 딕셔너리로 변환\n",
    "        start = time.time()\n",
    "        result = origin_func(*args, **kwargs) # 전달받은 *args, **kwargs 를 입력파라미터로 받아, 기존 함수를 수행한다.\n",
    "        end = time.time()\n",
    "        print(\"함수 수행 시간 : %f 초\" % (end - start))\n",
    "        return result\n",
    "    return wrapper\n",
    "\n",
    "@elapsed\n",
    "def myfunc(msg):\n",
    "    print(\"'%s' 를 출력합니다. \" % msg)\n",
    "\n",
    "myfunc(\"You need python\") # 출력할 메세지를 myfunc 함수의 파라미터로 전달한다."
   ]
  },
  {
   "cell_type": "markdown",
   "metadata": {},
   "source": [
    "# 이터레이터와 제너레이터"
   ]
  },
  {
   "cell_type": "markdown",
   "metadata": {},
   "source": [
    "## 이터레이터\n",
    "\n",
    "- iterable : 반복 가능한 객체(리스트, 문자열 등)\n",
    "\n",
    "- iterator(이터레이터) : next 함수를 호출하면, 계속 그 다음 값을 리턴하는 객체"
   ]
  },
  {
   "cell_type": "code",
   "execution_count": 44,
   "metadata": {},
   "outputs": [
    {
     "name": "stdout",
     "output_type": "stream",
     "text": [
      "<class 'list_iterator'>\n",
      "1\n",
      "2\n",
      "3\n"
     ]
    }
   ],
   "source": [
    "a = [1,2,3]\n",
    "# next(a)\n",
    "# 'list' object is not an iterator\n",
    "# 리스트는 이터레이터가 아니라는 오류 발생\n",
    "\n",
    "ia = iter(a)\n",
    "print(type(ia)) # 리스트를 이터레이터로 변경해줌\n",
    "print(next(ia))\n",
    "print(next(ia))\n",
    "print(next(ia)) # 순서대로 계속 다음 값을 호출함."
   ]
  },
  {
   "cell_type": "code",
   "execution_count": 45,
   "metadata": {},
   "outputs": [
    {
     "name": "stdout",
     "output_type": "stream",
     "text": [
      "1\n",
      "2\n",
      "3\n"
     ]
    }
   ],
   "source": [
    "a = [1,2,3]\n",
    "ia = iter(a)\n",
    "for i in a:\n",
    "    print(next(ia))"
   ]
  },
  {
   "cell_type": "code",
   "execution_count": 46,
   "metadata": {},
   "outputs": [
    {
     "name": "stdout",
     "output_type": "stream",
     "text": [
      "1\n",
      "2\n",
      "3\n"
     ]
    }
   ],
   "source": [
    "# iter 함수 대신, 클래스를 통해 리스트를 이터레이터로 만들기!\n",
    "\n",
    "class MyItertor :\n",
    "    def __init__(self, data) :\n",
    "        self.data = data\n",
    "        self.position = 0\n",
    "\n",
    "    def __iter__(self): # 클래스에서 __iter__ 메서드는, 해당 클래스로 생성한 객체가 반복 가능한 객체가 되게 함\n",
    "        return self\n",
    "    \n",
    "    def __next__(self): # 클래스에서 __next__ 메서드는, 반복 가능한 객체의 값을 차례대로 반환하는 역할을 함\n",
    "        if self.position >= len(self.data) :\n",
    "            raise StopIteration\n",
    "        result = self.data[self.position]\n",
    "        self.position += 1\n",
    "        return result\n",
    "    \n",
    "if __name__ == \"__main__\" :\n",
    "    i = MyItertor([1,2,3])\n",
    "    for item in i:\n",
    "        print(item)"
   ]
  },
  {
   "cell_type": "code",
   "execution_count": 47,
   "metadata": {},
   "outputs": [
    {
     "name": "stdout",
     "output_type": "stream",
     "text": [
      "6\n",
      "5\n",
      "4\n",
      "3\n",
      "2\n",
      "1\n"
     ]
    }
   ],
   "source": [
    "# 역순으로 출력하는 클래스\n",
    "\n",
    "class ReverseItertor :\n",
    "    def __init__(self, data) :\n",
    "        self.data = data\n",
    "        self.position = len(self.data) - 1\n",
    "\n",
    "    def __iter__(self) :\n",
    "        return self\n",
    "    \n",
    "    def __next__(self) :\n",
    "        if self.position <= -1 :\n",
    "            raise StopIteration\n",
    "        result = self.data[self.position]\n",
    "        self.position -= 1\n",
    "        return result\n",
    "    \n",
    "if __name__ == \"__main__\" :\n",
    "    i = ReverseItertor([1,2,3,4,5,6])\n",
    "    for item in i :\n",
    "        print(item)"
   ]
  },
  {
   "cell_type": "markdown",
   "metadata": {},
   "source": [
    "## 제너레이터\n",
    "\n",
    "- 이터레이터를 생성해 주는 함수\n",
    "\n",
    "- 차례대로 결과를 반환하기 위해, return 대신 yield 사용한다.\n",
    "\n",
    "- yield 한 순서대로 저장된다."
   ]
  },
  {
   "cell_type": "code",
   "execution_count": 48,
   "metadata": {},
   "outputs": [],
   "source": [
    "def mygen() :\n",
    "    yield 'a'\n",
    "    yield 'b'\n",
    "    yield 'c'\n",
    "\n",
    "g = mygen()"
   ]
  },
  {
   "cell_type": "code",
   "execution_count": 49,
   "metadata": {},
   "outputs": [
    {
     "name": "stdout",
     "output_type": "stream",
     "text": [
      "1\n",
      "4\n",
      "9\n",
      "16\n"
     ]
    }
   ],
   "source": [
    "def mygen() :\n",
    "    for i in range(1, 1000) :\n",
    "        result = i * i\n",
    "        yield result\n",
    "\n",
    "gen = mygen()\n",
    "\n",
    "print(next(gen))\n",
    "print(next(gen))\n",
    "print(next(gen))\n",
    "print(next(gen))\n"
   ]
  },
  {
   "cell_type": "code",
   "execution_count": 50,
   "metadata": {},
   "outputs": [],
   "source": [
    "gen = ( i * i for i in range(1, 1000))"
   ]
  },
  {
   "cell_type": "code",
   "execution_count": 51,
   "metadata": {},
   "outputs": [],
   "source": [
    "class MyItertor :\n",
    "    def __init__(self) :\n",
    "        self.data = 1\n",
    "\n",
    "    def __iter__(self) :\n",
    "        return self\n",
    "    \n",
    "    def __next__(self) :\n",
    "        result = self.data * self.data\n",
    "        self.data += 1\n",
    "        if self.data >= 1000 :\n",
    "            raise StopIteration\n",
    "        return result\n",
    "    \n"
   ]
  },
  {
   "cell_type": "code",
   "execution_count": 52,
   "metadata": {},
   "outputs": [
    {
     "name": "stdout",
     "output_type": "stream",
     "text": [
      "job start\n",
      "job start\n",
      "job start\n",
      "job start\n",
      "job start\n",
      "done\n"
     ]
    }
   ],
   "source": [
    "import time\n",
    "def longtime_job() :\n",
    "    print(\"job start\")\n",
    "    time.sleep(1) # 1초 지연\n",
    "    return \"done\"\n",
    "\n",
    "list_job = [longtime_job() for i in range(5)]\n",
    "print(list_job[0])"
   ]
  },
  {
   "cell_type": "markdown",
   "metadata": {},
   "source": [
    "# 파이썬 타입 어노테이션"
   ]
  },
  {
   "cell_type": "markdown",
   "metadata": {},
   "source": [
    "## 동적 언어와 정적 언어"
   ]
  },
  {
   "cell_type": "markdown",
   "metadata": {},
   "source": [
    "    동적 프로그래밍 : 프로그래밍 실행 중에 변수의 타입을 동적으로 바꿀 수 있음.\n",
    "\n",
    "    ( java 와 차이점)\n",
    "\n",
    "- 장점 : 유연한 코딩 -> 쉽고 빠르게 프로그램 만들 수 있음\n",
    "\n",
    "- 단점 : 타입을 잘못 선택하여 버그가 생길 수 있음\n",
    "\n",
    "- 단점 극복 위해 타입의 힌트 알려주는 기능 : 타이썬 타입 어노테이션"
   ]
  },
  {
   "cell_type": "markdown",
   "metadata": {},
   "source": [
    "## python 타입 어노테이션"
   ]
  },
  {
   "cell_type": "markdown",
   "metadata": {},
   "source": [
    "- 정수 : int\n",
    "\n",
    "- 문자열 : str\n",
    "\n",
    "- 리스트 : list\n",
    "\n",
    "- 튜플 : tuple\n",
    "\n",
    "- 딕셔너리 : dict\n",
    "\n",
    "- 집합 : set\n",
    "\n",
    "- 불 : bool"
   ]
  },
  {
   "cell_type": "code",
   "execution_count": 56,
   "metadata": {},
   "outputs": [],
   "source": [
    "# 변수 이름 바로 뒤에 : int 등을  사용해, num 변수가 int형이라는 것을 명시함.\n",
    "num : int = 1"
   ]
  },
  {
   "cell_type": "code",
   "execution_count": 33,
   "metadata": {},
   "outputs": [],
   "source": [
    "# 함수의 매개변수에도 같은 규칙을 적용해, 매개변수의 타입을 표현함.\n",
    "# -> int 를 통해, 함수의 리턴값도 타입을 명시함\n",
    "def add(a : int, b : int) -> int :\n",
    "    return a + b"
   ]
  },
  {
   "cell_type": "markdown",
   "metadata": {},
   "source": [
    "## mypy"
   ]
  },
  {
   "cell_type": "code",
   "execution_count": 55,
   "metadata": {},
   "outputs": [
    {
     "name": "stdout",
     "output_type": "stream",
     "text": [
      "6.4\n"
     ]
    }
   ],
   "source": [
    "def add ( a : int , b : int ) -> int :\n",
    "    return a + b\n",
    "\n",
    "result = add( 3, 3.4 ) # 다른 타입의 인수를 입력해도, 문제없이 돌아간다!\n",
    "                       # 파이썬 타입 어노테이션은 체크가 아닌 힌트이기 때문.\n",
    "print(result)"
   ]
  }
 ],
 "metadata": {
  "kernelspec": {
   "display_name": "Python 3",
   "language": "python",
   "name": "python3"
  },
  "language_info": {
   "codemirror_mode": {
    "name": "ipython",
    "version": 3
   },
   "file_extension": ".py",
   "mimetype": "text/x-python",
   "name": "python",
   "nbconvert_exporter": "python",
   "pygments_lexer": "ipython3",
   "version": "3.11.9"
  }
 },
 "nbformat": 4,
 "nbformat_minor": 2
}
