{
 "cells": [
  {
   "cell_type": "code",
   "execution_count": 5,
   "metadata": {},
   "outputs": [
    {
     "name": "stdout",
     "output_type": "stream",
     "text": [
      "[2, 4, 6, 8, 10, 12, 14, 16, 18]\n"
     ]
    }
   ],
   "source": [
    "# 구구단 출력 프로그램 만들어 보기\n",
    "\n",
    "# result = gugu(2)\n",
    "\n",
    "def gugu(num) :\n",
    "    sol = [] * 9\n",
    "    for i in range(1,10):\n",
    "        sol.append(num*i)\n",
    "    return sol\n",
    "\n",
    "result = gugu(2)\n",
    "print(result)"
   ]
  },
  {
   "cell_type": "code",
   "execution_count": 15,
   "metadata": {},
   "outputs": [
    {
     "name": "stdout",
     "output_type": "stream",
     "text": [
      "3\n",
      "5\n",
      "6\n",
      "9\n",
      "23\n"
     ]
    }
   ],
   "source": [
    "# 3과 5의 배수를 모두 더하기\n",
    "\n",
    "# 10 미만의 자연수에서 3과 5의 배수를 더하면 3, 5, 6, 9, 합은 23\n",
    "\n",
    "def sum(num) :\n",
    "    result = 0\n",
    "    for i in range(1, num):\n",
    "        if i % 15 == 0 :\n",
    "            result += i\n",
    "            print(i)\n",
    "        elif i % 5 == 0 :\n",
    "            result += i\n",
    "            print(i)\n",
    "        elif i % 3 == 0 :\n",
    "            result += i\n",
    "            print(i)\n",
    "        else :\n",
    "            pass\n",
    "    return result\n",
    "\n",
    "result = sum(10)\n",
    "print(result)"
   ]
  },
  {
   "cell_type": "code",
   "execution_count": 18,
   "metadata": {},
   "outputs": [
    {
     "name": "stdout",
     "output_type": "stream",
     "text": [
      "1\n"
     ]
    }
   ],
   "source": [
    "# 게시판 페이징하기\n",
    "# 게시물의 총 개수와 한 페이지에 보여줄 게시물 수를 입력으로 주면 총 페이지 수 출력\n",
    "\n",
    "a = int(input(\"게시물의 총 개수는?\"))\n",
    "b = int(input(\"한 페이지에 보여줄 게시물 수는?\"))\n",
    "\n",
    "if a % b == 0 :\n",
    "    sol = a // b\n",
    "else :\n",
    "    sol = a // b + 1\n",
    "\n",
    "print(sol)"
   ]
  },
  {
   "cell_type": "code",
   "execution_count": null,
   "metadata": {},
   "outputs": [],
   "source": [
    "# c:/doit/memo.py\n",
    "import sys\n",
    "\n",
    "option = sys.argv[1]\n",
    "\n",
    "if option == '-a':\n",
    "    memo = sys.argv[2]\n",
    "    f = open('memo.txt', 'a')\n",
    "    f.write(memo)\n",
    "    f.write('\\n')\n",
    "    f.close()\n",
    "elif option == '-v':\n",
    "    f = open('memo.txt')\n",
    "    memo = f.read()\n",
    "    f.close()\n",
    "    print(memo)"
   ]
  }
 ],
 "metadata": {
  "kernelspec": {
   "display_name": "Python 3",
   "language": "python",
   "name": "python3"
  },
  "language_info": {
   "codemirror_mode": {
    "name": "ipython",
    "version": 3
   },
   "file_extension": ".py",
   "mimetype": "text/x-python",
   "name": "python",
   "nbconvert_exporter": "python",
   "pygments_lexer": "ipython3",
   "version": "3.11.9"
  }
 },
 "nbformat": 4,
 "nbformat_minor": 2
}
