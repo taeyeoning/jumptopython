{
 "cells": [
  {
   "cell_type": "markdown",
   "metadata": {},
   "source": [
    "# regular expressions 살펴보기"
   ]
  },
  {
   "cell_type": "markdown",
   "metadata": {},
   "source": [
    "## 정규 표현식은 왜 필요한가?"
   ]
  },
  {
   "cell_type": "markdown",
   "metadata": {},
   "source": [
    "주민등록번호를 포함한 텍스트에서, 주민등록번호의 뒷자리를 * 문자로 변경하는 과제가 있다면?"
   ]
  },
  {
   "cell_type": "code",
   "execution_count": 2,
   "metadata": {},
   "outputs": [
    {
     "name": "stdout",
     "output_type": "stream",
     "text": [
      "\n",
      "park 800905-*******\n",
      "kim  700905-*******\n",
      "\n"
     ]
    }
   ],
   "source": [
    "# 정규 표현식을 사용하지 않은 경우\n",
    "data = \"\"\"\n",
    "park 800905-1049118\n",
    "kim  700905-1059119\n",
    "\"\"\"\n",
    "\n",
    "result = []\n",
    "for line in data.split(\"\\n\"):\n",
    "    word_result = []\n",
    "    for word in line.split(\" \"):\n",
    "        if len(word) == 14 and word[:6].isdigit() and word[7:].isdigit():\n",
    "            word = word[:6] + \"-\" + \"*******\"\n",
    "        word_result.append(word)\n",
    "    result.append(\" \".join(word_result))\n",
    "print(\"\\n\".join(result))"
   ]
  },
  {
   "cell_type": "code",
   "execution_count": 1,
   "metadata": {},
   "outputs": [
    {
     "name": "stdout",
     "output_type": "stream",
     "text": [
      "\n",
      "park 800905-1049118-*******\n",
      "kim  700905-1059119-*******\n",
      "\n"
     ]
    }
   ],
   "source": [
    "# 정규 표현식을 사용한 경우\n",
    "import re\n",
    "\n",
    "data = \"\"\"\n",
    "park 800905-1049118\n",
    "kim  700905-1059119\n",
    "\"\"\"\n",
    "\n",
    "pat = re.compile(\"(\\d{6}[-]\\d{7})\")\n",
    "print(pat.sub(\"\\g<1>-*******\", data))"
   ]
  },
  {
   "cell_type": "markdown",
   "metadata": {},
   "source": [
    "정규 표현식을 사용했을 때, 훨씬 간편하고 직관적인 코드를 쓸 수 있음."
   ]
  },
  {
   "cell_type": "markdown",
   "metadata": {},
   "source": [
    "# regular expressions 시작하기"
   ]
  },
  {
   "cell_type": "markdown",
   "metadata": {},
   "source": [
    "## 메타 문자"
   ]
  },
  {
   "cell_type": "markdown",
   "metadata": {},
   "source": [
    "    . ^ $ * + ? { } [ ] \\ | ( )\n",
    "\n",
    "    원래 그 문자가  가진 뜻이 아니라, 특별한 의미를 가진 문자를 말한다."
   ]
  },
  {
   "cell_type": "markdown",
   "metadata": {},
   "source": [
    "### []\n",
    "\n",
    "[] 사이의 문자들과 매치한다는 의미\n",
    "\n",
    "- [abc] 라면, a, b, c 중 한 개의 문자와 매치된다는 의미이다.\n",
    "\n",
    "- [a-c] 라면, a와 c 사이의 문자와 매치된다는 의미. abc 와 동일하다.\n",
    "\n",
    "    - [a-zA-Z] : 모든 알파벳\n",
    "\n",
    "    - [0-9] : 모든 숫자\n",
    "\n",
    "- [^] 는 반대(not) 라는 의미를 가진다.\n",
    "\n",
    "    - [^0-9] : 숫자가 아닌 문자만 매치된다."
   ]
  },
  {
   "cell_type": "markdown",
   "metadata": {},
   "source": [
    "### .(dot)\n",
    "\n",
    "\\n 을 제외한 모든 문자와 매치된다.\n",
    "\n",
    "re.DOTALL 옵션을 주면, \\n 과도 매치될 수 있다.\n",
    "\n",
    "- a.b 라면, a와 b 사이에 어떤 문자가 들어가도 매치된다는 의미이다.\n",
    "\n",
    "- a[.]b 라면, . 문자 그대로를 의미한다."
   ]
  },
  {
   "cell_type": "markdown",
   "metadata": {},
   "source": [
    "### *\n",
    "\n",
    "* 바로 앞에 있는 문자가 계속 반복될 수 있다는 의미이다.\n",
    "\n",
    "- ca*t\n",
    "\n",
    "    - ct 가능 (a가 0회 반복)\n",
    "\n",
    "    - cat 가능 (a가 1회 반복)\n",
    "\n",
    "    - caaaaaat 가능 (a가 다수 반복)"
   ]
  },
  {
   "cell_type": "markdown",
   "metadata": {},
   "source": [
    "### +\n",
    "\n",
    "- 최소 1회 이상 반복될 수 있다는 의미이다.\n",
    "\n",
    "- ca+t\n",
    "\n",
    "    - ct : 불가능\n",
    "\n",
    "    - cat : 가능\n",
    "\n",
    "    - caaaaaaaaat : 가능"
   ]
  },
  {
   "cell_type": "markdown",
   "metadata": {},
   "source": [
    "### {}, ?\n",
    "\n",
    "     {} : 반복을 제한하고 싶은 경우\n",
    "\n",
    "- ca{2}t\n",
    "\n",
    "    - c + a를 반드시 2회 반복 + t\n",
    "\n",
    "- ca{2,5}t\n",
    "\n",
    "    - c + a를 2회~5회 반복 + t"
   ]
  },
  {
   "cell_type": "markdown",
   "metadata": {},
   "source": [
    "     ? : {0,1}\n",
    "\n",
    "- ab?c\n",
    "\n",
    "    - a + b가 있어도 되고 없어도 됨 + c"
   ]
  },
  {
   "cell_type": "markdown",
   "metadata": {},
   "source": [
    "## re 모듈"
   ]
  },
  {
   "cell_type": "markdown",
   "metadata": {},
   "source": [
    "- match() : 문자열의 처음부터 정규식과 매칭되는지 조사\n",
    "\n",
    "- search() : 문자열 전체를 검색하여 정규식과 매칭되는지 조사\n",
    "\n",
    "- findall() : 정규식과 매칭되는 모든 문자열을 리스트로 리턴\n",
    "\n",
    "- finditer() : 정규식과 매칭되는 모든 문자열을 반복 가능한 객체로 리턴"
   ]
  },
  {
   "cell_type": "code",
   "execution_count": 3,
   "metadata": {},
   "outputs": [],
   "source": [
    "import re\n",
    "\n",
    "p = re.compile('[a-z]+')"
   ]
  },
  {
   "cell_type": "markdown",
   "metadata": {},
   "source": [
    "## 정규식을 이용한 문자열 검색"
   ]
  },
  {
   "cell_type": "code",
   "execution_count": 5,
   "metadata": {},
   "outputs": [
    {
     "name": "stdout",
     "output_type": "stream",
     "text": [
      "<re.Match object; span=(0, 6), match='python'>\n",
      "None\n"
     ]
    }
   ],
   "source": [
    "m = p.match(\"python\")\n",
    "print(m) # [a-z]+ 정규식에 부합되므로, match 객체가 리턴된다\n",
    "\n",
    "m = p.match(\"3 python\")\n",
    "print(m) # 3 이 정규식에 부합하지 않음"
   ]
  },
  {
   "cell_type": "code",
   "execution_count": 6,
   "metadata": {},
   "outputs": [
    {
     "name": "stdout",
     "output_type": "stream",
     "text": [
      "<re.Match object; span=(0, 6), match='python'>\n",
      "<re.Match object; span=(2, 8), match='python'>\n"
     ]
    }
   ],
   "source": [
    "m = p.search(\"python\")\n",
    "print(m) # 처음부터 6번째 자리까지 동일하게 매치됨\n",
    "\n",
    "m = p.search(\"3 python\")\n",
    "print(m) # 3 이후의 python 문자열과 매치됨"
   ]
  },
  {
   "cell_type": "code",
   "execution_count": 7,
   "metadata": {},
   "outputs": [
    {
     "name": "stdout",
     "output_type": "stream",
     "text": [
      "['life', 'is', 'too', 'short']\n"
     ]
    }
   ],
   "source": [
    "result = p.findall(\"life is too short\")\n",
    "print(result) # 매치되는 모든 값을 찾아 리스트로 리턴한다."
   ]
  },
  {
   "cell_type": "code",
   "execution_count": 8,
   "metadata": {},
   "outputs": [
    {
     "name": "stdout",
     "output_type": "stream",
     "text": [
      "<callable_iterator object at 0x000001B36ABF67D0>\n",
      "<re.Match object; span=(0, 4), match='life'>\n",
      "<re.Match object; span=(5, 7), match='is'>\n",
      "<re.Match object; span=(8, 11), match='too'>\n",
      "<re.Match object; span=(12, 17), match='short'>\n"
     ]
    }
   ],
   "source": [
    "result = p.finditer(\"life is too short\")\n",
    "print(result) # findall 과 형식 동일하지만, 반복 가능한 객체(iterator) 리턴한다.\n",
    "\n",
    "for r in result :\n",
    "    print(r)"
   ]
  },
  {
   "cell_type": "markdown",
   "metadata": {},
   "source": [
    "## match 객체의 메서드"
   ]
  },
  {
   "cell_type": "markdown",
   "metadata": {},
   "source": [
    "match 객체 : p.match, p.search, p.finditer 메서드에 의해 리턴된 매치 객체\n",
    "\n",
    "- group : 매치된 문자열을 리턴한다.\n",
    "\n",
    "- start : 매치된 문자열의 시작 위치를 리턴한다.\n",
    "\n",
    "- end : 매치된 문자열의 끝 위치를 리턴한다.\n",
    "\n",
    "- span : 매치된 문자열의 (시작, 끝) 에 해당하는 튜플을 리턴한다."
   ]
  },
  {
   "cell_type": "code",
   "execution_count": 10,
   "metadata": {},
   "outputs": [
    {
     "name": "stdout",
     "output_type": "stream",
     "text": [
      "python\n",
      "0\n",
      "6\n",
      "(0, 6)\n"
     ]
    }
   ],
   "source": [
    "m = p.match(\"python\")\n",
    "print(m.group())\n",
    "print(m.start())\n",
    "print(m.end())\n",
    "print(m.span())"
   ]
  },
  {
   "cell_type": "code",
   "execution_count": 11,
   "metadata": {},
   "outputs": [
    {
     "name": "stdout",
     "output_type": "stream",
     "text": [
      "python\n",
      "2\n",
      "8\n",
      "(2, 8)\n"
     ]
    }
   ],
   "source": [
    "m = p.search(\"3 python\")\n",
    "print(m.group())\n",
    "print(m.start())\n",
    "print(m.end())\n",
    "print(m.span())"
   ]
  }
 ],
 "metadata": {
  "kernelspec": {
   "display_name": "Python 3",
   "language": "python",
   "name": "python3"
  },
  "language_info": {
   "codemirror_mode": {
    "name": "ipython",
    "version": 3
   },
   "file_extension": ".py",
   "mimetype": "text/x-python",
   "name": "python",
   "nbconvert_exporter": "python",
   "pygments_lexer": "ipython3",
   "version": "3.11.9"
  }
 },
 "nbformat": 4,
 "nbformat_minor": 2
}
